{
 "cells": [
  {
   "cell_type": "code",
   "execution_count": 1,
   "id": "67ef4e57",
   "metadata": {},
   "outputs": [],
   "source": [
    "import os\n",
    "import glob\n",
    "import pandas as pd\n",
    "\n",
    "def filter_lake_features(input_folder, output_folder):\n",
    "    os.makedirs(output_folder, exist_ok=True)\n",
    "\n",
    "    # Columns to keep\n",
    "    time_cols = [\"Lake_ID\", \"Year\", \"Week\", \"chla_mean\"]\n",
    "    predictors = [\n",
    "        \"lswt_mean\", \"lake_mix_layer_temperature\", \"temperature_2m\",\n",
    "        \"runoff_sum\", \"surface_runoff_sum\", \"total_precipitation_sum\"\n",
    "    ]\n",
    "    lake_params = [\n",
    "        \"Lake_area\", \"Shore_len\", \"Shore_dev\", \"Vol_total\", \"Depth_avg\",\n",
    "        \"Dis_avg\", \"Res_time\", \"Elevation\", \"Slope_100\", \"Wshd_area\"\n",
    "    ]\n",
    "    selected_cols = time_cols + predictors + lake_params\n",
    "\n",
    "    for file in glob.glob(os.path.join(input_folder, \"Lake_*.csv\")):\n",
    "        try:\n",
    "            df = pd.read_csv(file)\n",
    "            # Keep only selected columns\n",
    "            df = df[[col for col in selected_cols if col in df.columns]]\n",
    "            # Save to new folder\n",
    "            lake_id = os.path.basename(file).split(\"_\")[1].split(\".\")[0]\n",
    "            out_path = os.path.join(output_folder, f\"Lake_{lake_id}.csv\")\n",
    "            df.to_csv(out_path, index=False)\n",
    "        except Exception as e:\n",
    "            print(f\"Error processing {file}: {e}\")\n",
    "\n",
    "\n"
   ]
  },
  {
   "cell_type": "code",
   "execution_count": 2,
   "id": "6571e54d",
   "metadata": {},
   "outputs": [],
   "source": [
    "\n",
    "filter_lake_features(\"Datasets/No_Fire_Lake_CSVs\", \"Datasets/Filtered_LSTM_Input\")"
   ]
  }
 ],
 "metadata": {
  "kernelspec": {
   "display_name": "myenv",
   "language": "python",
   "name": "python3"
  },
  "language_info": {
   "codemirror_mode": {
    "name": "ipython",
    "version": 3
   },
   "file_extension": ".py",
   "mimetype": "text/x-python",
   "name": "python",
   "nbconvert_exporter": "python",
   "pygments_lexer": "ipython3",
   "version": "3.12.9"
  }
 },
 "nbformat": 4,
 "nbformat_minor": 5
}
