{
 "cells": [
  {
   "cell_type": "code",
   "execution_count": 1,
   "id": "cf127008",
   "metadata": {},
   "outputs": [],
   "source": [
    "import geopandas as gpd\n",
    "import pandas as pd\n",
    "import networkx as nx"
   ]
  },
  {
   "cell_type": "code",
   "execution_count": 2,
   "id": "90a93d55",
   "metadata": {},
   "outputs": [],
   "source": [
    "def load_and_merge_catchments(paths):\n",
    "    \"\"\"Loads and merges HydroBASINS catchments from a list of file paths.\"\"\"\n",
    "    dfs = [gpd.read_file(p) for p in paths]\n",
    "    combined = pd.concat(dfs, ignore_index=True)\n",
    "    return gpd.GeoDataFrame(combined, crs=dfs[0].crs)\n"
   ]
  },
  {
   "cell_type": "code",
   "execution_count": 3,
   "id": "5c39cd50",
   "metadata": {},
   "outputs": [],
   "source": [
    "def load_lakes(lake_path, target_crs):\n",
    "    \"\"\"Loads lake shapefile and reprojects to match catchments if needed.\"\"\"\n",
    "    lakes = gpd.read_file(lake_path)\n",
    "    if lakes.crs != target_crs:\n",
    "        lakes = lakes.to_crs(target_crs)\n",
    "    return lakes"
   ]
  },
  {
   "cell_type": "code",
   "execution_count": 4,
   "id": "18e1a577",
   "metadata": {},
   "outputs": [],
   "source": [
    "def match_lakes_to_catchments(catchments, lakes, lake_id_col):\n",
    "    \"\"\"Spatial join to associate each lake with its intersecting catchment.\"\"\"\n",
    "    join = gpd.sjoin(catchments[['HYBAS_ID', 'NEXT_DOWN', 'geometry']], lakes, how=\"inner\", predicate=\"intersects\")\n",
    "    return join[['HYBAS_ID', lake_id_col]]\n"
   ]
  },
  {
   "cell_type": "code",
   "execution_count": 5,
   "id": "f7d218d7",
   "metadata": {},
   "outputs": [],
   "source": [
    "def build_catchment_graph(catchments):\n",
    "    \"\"\"Builds a directed graph of the river network.\"\"\"\n",
    "    G = nx.DiGraph()\n",
    "    for _, row in catchments.iterrows():\n",
    "        src = row['HYBAS_ID']\n",
    "        dst = row['NEXT_DOWN']\n",
    "        if dst != 0:\n",
    "            G.add_edge(dst, src)  # Edge points upstream\n",
    "    return G"
   ]
  },
  {
   "cell_type": "code",
   "execution_count": 6,
   "id": "b12458f0",
   "metadata": {},
   "outputs": [],
   "source": [
    "def trace_upstream_by_lake(lake_matches, graph):\n",
    "    \"\"\"For each lake's HYBAS_ID, find all upstream catchments.\"\"\"\n",
    "    records = []\n",
    "    for _, row in lake_matches.iterrows():\n",
    "        lake_id = row['Lake_ID']\n",
    "        hybas_id = row['HYBAS_ID']\n",
    "        if hybas_id in graph:\n",
    "            upstream = nx.descendants(graph, hybas_id)\n",
    "            upstream.add(hybas_id)\n",
    "            for uid in upstream:\n",
    "                records.append({'HYBAS_ID': uid, 'Lake_ID': lake_id})\n",
    "    return pd.DataFrame(records)"
   ]
  },
  {
   "cell_type": "code",
   "execution_count": 7,
   "id": "8593a358",
   "metadata": {},
   "outputs": [],
   "source": [
    "def merge_with_geometries(upstream_df, catchments):\n",
    "    \"\"\"Merge upstream IDs with catchment geometries.\"\"\"\n",
    "    merged = upstream_df.merge(catchments, on='HYBAS_ID', how='left')\n",
    "    return gpd.GeoDataFrame(merged, geometry='geometry', crs=catchments.crs)\n"
   ]
  },
  {
   "cell_type": "code",
   "execution_count": null,
   "id": "389199c6",
   "metadata": {},
   "outputs": [],
   "source": [
    "def main():\n",
    "    # === File paths ===\n",
    "    catchment_files = [\n",
    "        \"sa/hybas_lake_sa_lev08_v1c.shp\",\n",
    "        \"na/hybas_lake_na_lev08_v1c.shp\",\n",
    "        \"ar/hybas_lake_ar_lev08_v1c.shp\"\n",
    "    ]\n",
    "    lake_file = \"lakes/CCILakesV202_Laura.shp\"\n",
    "    lake_id_column = \"Lake_ID\"  # Replace with your actual column name\n",
    "\n",
    "    # === Process ===\n",
    "    catchments = load_and_merge_catchments(catchment_files)\n",
    "    lakes = load_lakes(lake_file, catchments.crs)\n",
    "    lake_matches = match_lakes_to_catchments(catchments, lakes, lake_id_column)\n",
    "    graph = build_catchment_graph(catchments)\n",
    "    upstream_df = trace_upstream_by_lake(lake_matches, graph)\n",
    "    result_gdf = merge_with_geometries(upstream_df, catchments)\n",
    "\n",
    "    # === Export ===\n",
    "    result_gdf.to_file(\"LakeCatchments_Grouped_By_LakeID.shp\")\n",
    "    print(\"✅ Done! Exported grouped upstream catchments.\")\n",
    "\n",
    "if __name__ == \"__main__\":\n",
    "    main()\n"
   ]
  }
 ],
 "metadata": {
  "kernelspec": {
   "display_name": "se",
   "language": "python",
   "name": "python3"
  },
  "language_info": {
   "codemirror_mode": {
    "name": "ipython",
    "version": 3
   },
   "file_extension": ".py",
   "mimetype": "text/x-python",
   "name": "python",
   "nbconvert_exporter": "python",
   "pygments_lexer": "ipython3",
   "version": "3.13.2"
  }
 },
 "nbformat": 4,
 "nbformat_minor": 5
}
