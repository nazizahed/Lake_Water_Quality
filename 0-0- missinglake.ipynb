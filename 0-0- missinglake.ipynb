{
 "cells": [
  {
   "cell_type": "code",
   "execution_count": 3,
   "id": "2ae6d193",
   "metadata": {},
   "outputs": [
    {
     "name": "stdout",
     "output_type": "stream",
     "text": [
      "Sample shapefile LAKE_IDs:\n",
      "0           10.0\n",
      "1          100.0\n",
      "2    100000001.0\n",
      "3    100000002.0\n",
      "4    100000003.0\n",
      "5    100000004.0\n",
      "6    100000011.0\n",
      "7    100000012.0\n",
      "8    100000013.0\n",
      "9    100000014.0\n",
      "Name: Lake_ID, dtype: float64\n",
      "\n",
      "Normalized LAKE_IDs (shapefile): ['10', '100', '100000001', '100000002', '100000003', '100000004', '100000011', '100000012', '100000013', '100000014']\n",
      "\n",
      "Sample lake IDs from filenames: ['10', '100', '100000001', '100000002', '100000003', '100000004', '100000011', '100000012', '100000013', '100000014']\n",
      "\n",
      "Normalized LAKE_IDs (from folder): ['10', '100', '100000001', '100000002', '100000003', '100000004', '100000011', '100000012', '100000013', '100000014']\n",
      "\n",
      "Total in shapefile: 2024\n",
      "Total in folder: 2012\n",
      "Missing lake IDs: ['1054', '112', '168', '2', '228', '300009430', '337', '390', '443', '498', '53', '723']\n"
     ]
    }
   ],
   "source": [
    "import os\n",
    "import re\n",
    "import geopandas as gpd\n",
    "\n",
    "# Paths\n",
    "project_root = os.getcwd()\n",
    "lake_file = os.path.abspath(os.path.join(project_root, \"Datasets/lakes/CCILakesV202.shp\"))\n",
    "csv_folder = os.path.abspath(os.path.join(project_root, \"Datasets/CNR/CHLA/\"))\n",
    "\n",
    "# Step 1: Load and print some sample lake IDs from shapefile\n",
    "lake_gdf = gpd.read_file(lake_file)\n",
    "lake_ids_raw = lake_gdf['Lake_ID'].dropna()\n",
    "\n",
    "print(\"Sample shapefile LAKE_IDs:\")\n",
    "print(lake_ids_raw.head(10))\n",
    "\n",
    "# Normalize them as strings of integers\n",
    "lake_ids = set(lake_ids_raw.astype(int).astype(str))\n",
    "print(f\"\\nNormalized LAKE_IDs (shapefile): {sorted(list(lake_ids))[:10]}\")\n",
    "\n",
    "# Step 2: Get lake IDs from filenames\n",
    "csv_files = os.listdir(csv_folder)\n",
    "lake_ids_in_folder = set()\n",
    "\n",
    "for filename in csv_files:\n",
    "    match = re.match(r\"ID(\\d+)_\", filename)\n",
    "    if match:\n",
    "        lake_ids_in_folder.add(match.group(1))\n",
    "\n",
    "print(f\"\\nSample lake IDs from filenames: {sorted(list(lake_ids_in_folder))[:10]}\")\n",
    "\n",
    "# Step 3: Normalize both sets\n",
    "lake_ids_folder_normalized = {str(int(id)) for id in lake_ids_in_folder}\n",
    "\n",
    "print(f\"\\nNormalized LAKE_IDs (from folder): {sorted(list(lake_ids_folder_normalized))[:10]}\")\n",
    "\n",
    "# Step 4: Find difference\n",
    "missing_lakes = lake_ids - lake_ids_folder_normalized\n",
    "\n",
    "print(f\"\\nTotal in shapefile: {len(lake_ids)}\")\n",
    "print(f\"Total in folder: {len(lake_ids_folder_normalized)}\")\n",
    "print(f\"Missing lake IDs: {sorted(list(missing_lakes))}\")\n"
   ]
  },
  {
   "cell_type": "code",
   "execution_count": 8,
   "id": "51ee87d9",
   "metadata": {},
   "outputs": [
    {
     "name": "stdout",
     "output_type": "stream",
     "text": [
      "IDs only in CHLA: ['1054', '1062', '157', '188', '198', '210', '2132', '2517', '27', '28', '300009430', '300013431', '323', '3476', '351', '3566', '382', '383', '483', '64', '71', '723', '833']\n",
      "IDs only in TURB: []\n",
      "IDs NOT in both: ['1054', '1062', '157', '188', '198', '210', '2132', '2517', '27', '28', '300009430', '300013431', '323', '3476', '351', '3566', '382', '383', '483', '64', '71', '723', '833']\n",
      "\n",
      "Number of lakes with both: 1992\n"
     ]
    }
   ],
   "source": [
    "import os\n",
    "import re\n",
    "# Set folder paths\n",
    "chla_folder = \"Datasets/CNR/CHLA/\"\n",
    "turb_folder = \"Datasets/CNR/turbidity/\"\n",
    "\n",
    "# Regex pattern to extract lake ID\n",
    "pattern = re.compile(r\"ID(\\d+)_\")\n",
    "\n",
    "# Helper to extract IDs from filenames in a folder\n",
    "def extract_ids(folder_path):\n",
    "    ids = set()\n",
    "    for filename in os.listdir(folder_path):\n",
    "        match = pattern.match(filename)\n",
    "        if match:\n",
    "            ids.add(match.group(1))\n",
    "    return ids\n",
    "\n",
    "# Extract IDs\n",
    "chla_ids = extract_ids(chla_folder)\n",
    "turb_ids = extract_ids(turb_folder)\n",
    "\n",
    "# Find mismatches\n",
    "only_in_chla = chla_ids - turb_ids\n",
    "only_in_turb = turb_ids - chla_ids\n",
    "not_in_both = only_in_chla.union(only_in_turb)\n",
    "\n",
    "# Output\n",
    "print(f\"IDs only in CHLA: {sorted(only_in_chla)}\")\n",
    "print(f\"IDs only in TURB: {sorted(only_in_turb)}\")\n",
    "print(f\"IDs NOT in both: {sorted(not_in_both)}\")\n",
    "print(f\"\\nNumber of lakes with both: {len(chla_ids & turb_ids)}\")\n"
   ]
  },
  {
   "cell_type": "code",
   "execution_count": 9,
   "id": "b99f7d62",
   "metadata": {},
   "outputs": [
    {
     "name": "stdout",
     "output_type": "stream",
     "text": [
      "IDs only in CHLA: []\n",
      "IDs only in TURB: ['1054', '300009430', '723']\n",
      "IDs NOT in both: ['1054', '300009430', '723']\n",
      "\n",
      "Number of lakes with both: 2012\n"
     ]
    }
   ],
   "source": [
    "import os\n",
    "import re\n",
    "\n",
    "# Set folder paths\n",
    "chla_folder = \"Datasets/CNR/CHLA/\"\n",
    "turb_folder = \"Datasets/CNR/turbidity/\"\n",
    "\n",
    "# Regex pattern to extract lake ID\n",
    "pattern = re.compile(r\"ID(\\d+)_\")\n",
    "\n",
    "# Helper to extract IDs from filenames in a folder\n",
    "def extract_ids(folder_path):\n",
    "    ids = set()\n",
    "    for filename in os.listdir(folder_path):\n",
    "        match = pattern.match(filename)\n",
    "        if match:\n",
    "            ids.add(match.group(1))\n",
    "    return ids\n",
    "\n",
    "# Extract IDs\n",
    "chla_ids = extract_ids(chla_folder)\n",
    "turb_ids = extract_ids(turb_folder)\n",
    "\n",
    "# Find mismatches\n",
    "only_in_chla = chla_ids - turb_ids\n",
    "only_in_turb = turb_ids - chla_ids\n",
    "not_in_both = only_in_chla.union(only_in_turb)\n",
    "\n",
    "# Output\n",
    "print(f\"IDs only in CHLA: {sorted(only_in_chla)}\")\n",
    "print(f\"IDs only in TURB: {sorted(only_in_turb)}\")\n",
    "print(f\"IDs NOT in both: {sorted(not_in_both)}\")\n",
    "print(f\"\\nNumber of lakes with both: {len(chla_ids & turb_ids)}\")\n"
   ]
  }
 ],
 "metadata": {
  "kernelspec": {
   "display_name": "myenv",
   "language": "python",
   "name": "python3"
  },
  "language_info": {
   "codemirror_mode": {
    "name": "ipython",
    "version": 3
   },
   "file_extension": ".py",
   "mimetype": "text/x-python",
   "name": "python",
   "nbconvert_exporter": "python",
   "pygments_lexer": "ipython3",
   "version": "3.12.9"
  }
 },
 "nbformat": 4,
 "nbformat_minor": 5
}
