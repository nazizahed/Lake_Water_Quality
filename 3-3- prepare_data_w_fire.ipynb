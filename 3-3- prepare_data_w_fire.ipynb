{
 "cells": [
  {
   "cell_type": "code",
   "execution_count": 9,
   "id": "348b031f",
   "metadata": {},
   "outputs": [],
   "source": [
    "import os\n",
    "import glob\n",
    "import pandas as pd\n",
    "\n",
    "def filter_lake_features_with_fire(input_folder, fire_folder, output_folder, fire_end_year=2019):\n",
    "    os.makedirs(output_folder, exist_ok=True)\n",
    "\n",
    "    # 🔹 Top 5 FireCCI land covers to include\n",
    "    fire_cols_to_include = [\n",
    "        \"Grassland\",\n",
    "        \"Tree_broad_deciduous\",\n",
    "        \"Shrub_herb_flooded\",\n",
    "        \"Shrubland\",\n",
    "        \"Tree_needle_evergreen\"\n",
    "    ]\n",
    "\n",
    "    # 🔹 Base columns to keep\n",
    "    time_cols = [\"Lake_ID\", \"Year\", \"Week\", \"chla_mean\"]\n",
    "    predictors = [\n",
    "        \"lswt_mean\", \"lake_mix_layer_temperature\", \"temperature_2m\",\n",
    "        \"runoff_sum\", \"surface_runoff_sum\", \"total_precipitation_sum\"\n",
    "    ]\n",
    "    lake_params = [\n",
    "        \"Lake_area\", \"Shore_len\", \"Shore_dev\", \"Vol_total\", \"Depth_avg\",\n",
    "        \"Dis_avg\", \"Res_time\", \"Elevation\", \"Slope_100\", \"Wshd_area\"\n",
    "    ]\n",
    "    selected_cols = time_cols + predictors + lake_params\n",
    "\n",
    "    # 🔹 Load and merge all FireCCI files\n",
    "    fire_files = sorted(glob.glob(os.path.join(fire_folder, \"*.csv\")))\n",
    "    fire_df_all = pd.concat([pd.read_csv(f) for f in fire_files], ignore_index=True)\n",
    "\n",
    "    # 🔹 Filter and rename\n",
    "    fire_df_all = fire_df_all[[\"Lake_ID\", \"year\", \"week\"] + fire_cols_to_include]\n",
    "    fire_df_all.rename(columns={\"year\": \"Year\", \"week\": \"Week\"}, inplace=True)\n",
    "    fire_df_all = fire_df_all[fire_df_all[\"Year\"] <= fire_end_year]\n",
    "\n",
    "    # 🔁 Process each lake file\n",
    "    for file in glob.glob(os.path.join(input_folder, \"Lake_*.csv\")):\n",
    "        try:\n",
    "            df = pd.read_csv(file)\n",
    "            lake_id = int(df[\"Lake_ID\"].iloc[0])\n",
    "\n",
    "            df = df[[col for col in selected_cols if col in df.columns]]\n",
    "            df = df[df[\"Year\"] <= fire_end_year]\n",
    "\n",
    "            fire_lake = fire_df_all[fire_df_all[\"Lake_ID\"] == lake_id]\n",
    "            df = pd.merge(df, fire_lake, on=[\"Lake_ID\", \"Year\", \"Week\"], how=\"left\")\n",
    "\n",
    "            for col in fire_cols_to_include:\n",
    "                if col in df.columns:\n",
    "                    df[col] = df[col].fillna(0)\n",
    "\n",
    "            out_path = os.path.join(output_folder, f\"Lake_{lake_id}.csv\")\n",
    "            df.to_csv(out_path, index=False)\n",
    "\n",
    "        except Exception as e:\n",
    "            print(f\"❌ Error processing {file}: {e}\")\n",
    "\n",
    "    print(f\"✅ Finished generating lake files with fire data to: {output_folder}\")\n"
   ]
  },
  {
   "cell_type": "code",
   "execution_count": 10,
   "id": "dc7c2ddc",
   "metadata": {},
   "outputs": [
    {
     "name": "stdout",
     "output_type": "stream",
     "text": [
      "✅ Finished generating lake files with fire data to: Datasets/No_Fire_With_FirePredictors\n",
      "✅ Finished generating lake files with fire data to: Datasets/Fire_With_FirePredictors\n"
     ]
    }
   ],
   "source": [
    "filter_lake_features_with_fire(\n",
    "    input_folder=\"Datasets/No_Fire_Lake_CSVs\",\n",
    "    fire_folder=\"Datasets/GEE/firecci_raw\",\n",
    "    output_folder=\"Datasets/No_Fire_With_FirePredictors\"\n",
    ")\n",
    "\n",
    "filter_lake_features_with_fire(\n",
    "    input_folder=\"Datasets/Fire_Lake_CSVs\",\n",
    "    fire_folder=\"Datasets/GEE/firecci_raw\",\n",
    "    output_folder=\"Datasets/Fire_With_FirePredictors\"\n",
    ")\n"
   ]
  }
 ],
 "metadata": {
  "kernelspec": {
   "display_name": "myenv",
   "language": "python",
   "name": "python3"
  },
  "language_info": {
   "codemirror_mode": {
    "name": "ipython",
    "version": 3
   },
   "file_extension": ".py",
   "mimetype": "text/x-python",
   "name": "python",
   "nbconvert_exporter": "python",
   "pygments_lexer": "ipython3",
   "version": "3.12.9"
  }
 },
 "nbformat": 4,
 "nbformat_minor": 5
}
