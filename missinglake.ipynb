{
 "cells": [
  {
   "cell_type": "code",
   "execution_count": 11,
   "id": "2ae6d193",
   "metadata": {},
   "outputs": [
    {
     "name": "stdout",
     "output_type": "stream",
     "text": [
      "Sample shapefile LAKE_IDs:\n",
      "0           10.0\n",
      "1          100.0\n",
      "2    100000001.0\n",
      "3    100000002.0\n",
      "4    100000003.0\n",
      "5    100000004.0\n",
      "6    100000011.0\n",
      "7    100000012.0\n",
      "8    100000013.0\n",
      "9    100000014.0\n",
      "Name: Lake_ID, dtype: float64\n",
      "\n",
      "Normalized LAKE_IDs (shapefile): ['10', '100', '100000001', '100000002', '100000003', '100000004', '100000011', '100000012', '100000013', '100000014']\n",
      "\n",
      "Sample lake IDs from filenames: ['10', '100', '100000001', '100000002', '100000003', '100000004', '100000011', '100000012', '100000013', '100000014']\n",
      "\n",
      "Normalized LAKE_IDs (from folder): ['10', '100', '100000001', '100000002', '100000003', '100000004', '100000011', '100000012', '100000013', '100000014']\n",
      "\n",
      "Total in shapefile: 2024\n",
      "Total in folder: 2012\n",
      "Missing lake IDs: ['1054', '112', '168', '2', '228', '300009430', '337', '390', '443', '498', '53', '723']\n"
     ]
    }
   ],
   "source": [
    "import os\n",
    "import re\n",
    "import geopandas as gpd\n",
    "\n",
    "# Paths\n",
    "project_root = os.getcwd()\n",
    "lake_file = os.path.abspath(os.path.join(project_root, \"../datasets/lakes/CCILakesV202.shp\"))\n",
    "csv_folder = os.path.abspath(os.path.join(project_root, \"../datasets/Chla/\"))\n",
    "\n",
    "# Step 1: Load and print some sample lake IDs from shapefile\n",
    "lake_gdf = gpd.read_file(lake_file)\n",
    "lake_ids_raw = lake_gdf['Lake_ID'].dropna()\n",
    "\n",
    "print(\"Sample shapefile LAKE_IDs:\")\n",
    "print(lake_ids_raw.head(10))\n",
    "\n",
    "# Normalize them as strings of integers\n",
    "lake_ids = set(lake_ids_raw.astype(int).astype(str))\n",
    "print(f\"\\nNormalized LAKE_IDs (shapefile): {sorted(list(lake_ids))[:10]}\")\n",
    "\n",
    "# Step 2: Get lake IDs from filenames\n",
    "csv_files = os.listdir(csv_folder)\n",
    "lake_ids_in_folder = set()\n",
    "\n",
    "for filename in csv_files:\n",
    "    match = re.match(r\"ID(\\d+)_\", filename)\n",
    "    if match:\n",
    "        lake_ids_in_folder.add(match.group(1))\n",
    "\n",
    "print(f\"\\nSample lake IDs from filenames: {sorted(list(lake_ids_in_folder))[:10]}\")\n",
    "\n",
    "# Step 3: Normalize both sets\n",
    "lake_ids_folder_normalized = {str(int(id)) for id in lake_ids_in_folder}\n",
    "\n",
    "print(f\"\\nNormalized LAKE_IDs (from folder): {sorted(list(lake_ids_folder_normalized))[:10]}\")\n",
    "\n",
    "# Step 4: Find difference\n",
    "missing_lakes = lake_ids - lake_ids_folder_normalized\n",
    "\n",
    "print(f\"\\nTotal in shapefile: {len(lake_ids)}\")\n",
    "print(f\"Total in folder: {len(lake_ids_folder_normalized)}\")\n",
    "print(f\"Missing lake IDs: {sorted(list(missing_lakes))}\")\n"
   ]
  }
 ],
 "metadata": {
  "kernelspec": {
   "display_name": "myenv",
   "language": "python",
   "name": "python3"
  },
  "language_info": {
   "codemirror_mode": {
    "name": "ipython",
    "version": 3
   },
   "file_extension": ".py",
   "mimetype": "text/x-python",
   "name": "python",
   "nbconvert_exporter": "python",
   "pygments_lexer": "ipython3",
   "version": "3.12.9"
  }
 },
 "nbformat": 4,
 "nbformat_minor": 5
}
