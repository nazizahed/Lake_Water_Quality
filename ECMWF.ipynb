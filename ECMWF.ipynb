{
 "cells": [
  {
   "cell_type": "code",
   "execution_count": 1,
   "id": "45de6e0f",
   "metadata": {},
   "outputs": [],
   "source": [
    "import ee\n",
    "ee.Authenticate(auth_mode='notebook')\n",
    "ee.Initialize(project='global-booster-421311')\n"
   ]
  },
  {
   "cell_type": "code",
   "execution_count": 11,
   "id": "77b44309",
   "metadata": {},
   "outputs": [
    {
     "name": "stdout",
     "output_type": "stream",
     "text": [
      "Export started! Monitor in GEE Tasks or Google Drive.\n"
     ]
    }
   ],
   "source": [
    "# Your catchments asset\n",
    "catchments = ee.FeatureCollection('projects/global-booster-421311/assets/LakeCatchments_NA')\n",
    "era = ee.ImageCollection('ECMWF/ERA5_LAND/DAILY_AGGR').filterDate('2019-01-01', '2020-01-01')\n",
    "weeks = list(range(1, 54))\n",
    "\n",
    "variables_mean = [\n",
    "    'temperature_2m',\n",
    "    'lake_mix_layer_temperature'\n",
    "]\n",
    "variables_sum = [\n",
    "    'total_precipitation_sum',\n",
    "    'surface_runoff_sum',\n",
    "    'runoff_sum'\n",
    "]\n",
    "\n",
    "def features_for_week(week):\n",
    "    week = ee.Number(week)\n",
    "    start_day = week.subtract(1).multiply(7)\n",
    "    end_day = week.multiply(7).subtract(1)\n",
    "    start_date = ee.Date('2019-01-01').advance(start_day, 'day')\n",
    "    end_date = ee.Date('2019-01-01').advance(end_day, 'day')\n",
    "\n",
    "    week_imgs = era.filterDate(start_date, end_date.advance(1, 'day'))\n",
    "    mean_img = week_imgs.mean().select(variables_mean)\n",
    "    sum_img = week_imgs.sum().select(variables_sum)\n",
    "    stack = mean_img.addBands(sum_img)\n",
    "    \n",
    "    stats = stack.reduceRegions(\n",
    "        collection=catchments,\n",
    "        reducer=ee.Reducer.mean().forEachBand(mean_img)\n",
    "                .combine(ee.Reducer.sum().forEachBand(sum_img), '', False),\n",
    "        scale=10000\n",
    "    ).map(lambda f: f.set({\n",
    "        'year': 2019,\n",
    "        'week': week,\n",
    "        'week_start': start_date.format('YYYY/MM/dd'),\n",
    "        'week_end': end_date.format('YYYY/MM/dd')\n",
    "    }))\n",
    "    return stats\n",
    "\n",
    "weekly_collections = ee.List(weeks).map(features_for_week)\n",
    "all_features = ee.FeatureCollection(weekly_collections).flatten()\n",
    "\n",
    "def drop_geometry(feature):\n",
    "    return feature.setGeometry(None)\n",
    "all_features_no_geom = all_features.map(drop_geometry)\n",
    "\n",
    "export_fields = [\n",
    "    'Lake_ID', 'year', 'week', 'week_start', 'week_end',\n",
    "    'temperature_2m_mean',\n",
    "    'lake_mix_layer_temperature_mean',\n",
    "    'total_precipitation_sum_sum',\n",
    "    'surface_runoff_sum_sum',\n",
    "    'runoff_sum_sum'\n",
    "]\n",
    "\n",
    "task = ee.batch.Export.table.toDrive(\n",
    "    collection=all_features_no_geom.select([\n",
    "        'Lake_ID', 'year', 'week', 'week_start', 'week_end',\n",
    "        'temperature_2m',\n",
    "        'lake_mix_layer_temperature',\n",
    "        'total_precipitation_sum',\n",
    "        'surface_runoff_sum',\n",
    "        'runoff_sum'\n",
    "    ]),\n",
    "    description='ERA5Land_Weekly_Catchments_2019_Climate',\n",
    "    fileFormat='CSV'\n",
    ")\n",
    "task.start()\n",
    "print(\"Export started! Monitor in GEE Tasks or Google Drive.\")"
   ]
  },
  {
   "cell_type": "code",
   "execution_count": null,
   "id": "36bb5fe5",
   "metadata": {},
   "outputs": [
    {
     "name": "stdout",
     "output_type": "stream",
     "text": [
      "✅ Done! Sorted, cleaned, and exported.\n"
     ]
    }
   ],
   "source": [
    "import pandas as pd\n",
    "\n",
    "df = pd.read_csv('extracted_gee/ERA5Land_Weekly_Catchments_2019_Climate.csv')\n",
    "import pandas as pd\n",
    "# Drop unwanted columns if present\n",
    "to_drop = ['.geo', 'system:index']\n",
    "df = df.drop(columns=[col for col in to_drop if col in df.columns])\n",
    "\n",
    "# Ensure the columns are ordered as desired\n",
    "main_cols = ['Lake_ID', 'year', 'week', 'week_start', 'week_end']\n",
    "other_cols = [col for col in df.columns if col not in main_cols]\n",
    "df = df[main_cols + other_cols]\n",
    "\n",
    "# Sort by Lake_ID and date (year, week)\n",
    "df = df.sort_values(by=['Lake_ID', 'year', 'week'])\n",
    "\n",
    "# Save cleaned table\n",
    "df.to_csv('extracted_gee/ERA5Land_Weekly_Catchments_2019_Climate.csv', index=False)\n",
    "\n",
    "print(\"✅ Done! Sorted, cleaned, and exported.\")\n"
   ]
  }
 ],
 "metadata": {
  "kernelspec": {
   "display_name": "se",
   "language": "python",
   "name": "python3"
  },
  "language_info": {
   "codemirror_mode": {
    "name": "ipython",
    "version": 3
   },
   "file_extension": ".py",
   "mimetype": "text/x-python",
   "name": "python",
   "nbconvert_exporter": "python",
   "pygments_lexer": "ipython3",
   "version": "3.13.2"
  }
 },
 "nbformat": 4,
 "nbformat_minor": 5
}
