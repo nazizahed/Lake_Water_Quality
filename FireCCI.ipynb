{
 "cells": [
  {
   "cell_type": "code",
   "execution_count": 18,
   "id": "77c8363c",
   "metadata": {},
   "outputs": [],
   "source": [
    "import ee\n",
    "ee.Authenticate(auth_mode='notebook')\n",
    "ee.Initialize(project='global-booster-421311')\n"
   ]
  },
  {
   "cell_type": "code",
   "execution_count": 20,
   "id": "61b8ccd6",
   "metadata": {},
   "outputs": [
    {
     "name": "stdout",
     "output_type": "stream",
     "text": [
      "Export started! Monitor in GEE Tasks or Google Drive.\n"
     ]
    }
   ],
   "source": [
    "# Your catchments asset (update this if your asset path changes)\n",
    "catchments = ee.FeatureCollection(\"projects/global-booster-421311/assets/LakeCatchments_NA\")\n",
    "\n",
    "landcover_codes = [0, 20, 30, 40, 50, 60, 70, 80, 90, 100, 110, 120, 130, 140, 150, 170, 180]\n",
    "weeks = list(range(1, 54))  # 1 to 53\n",
    "\n",
    "# For a single year example (2019)\n",
    "image = ee.ImageCollection('ESA/CCI/FireCCI/5_1').filterDate('2019-01-01', '2020-01-01').first()\n",
    "year = 2019\n",
    "\n",
    "def features_for_week(week):\n",
    "    week = ee.Number(week)\n",
    "    start_day = week.subtract(1).multiply(7).add(1)\n",
    "    end_day = week.multiply(7).min(366)\n",
    "    burned = image.select('BurnDate').gte(start_day).And(image.select('BurnDate').lte(end_day))\n",
    "    landcover = image.select('LandCover')\n",
    "    bands = [burned.And(landcover.eq(lc)).rename(f'burned_pix_lc_{lc}') for lc in landcover_codes]\n",
    "    stack = ee.Image.cat(bands)\n",
    "    stats = stack.reduceRegions(\n",
    "        collection=catchments,\n",
    "        reducer=ee.Reducer.sum().forEachBand(stack),\n",
    "        scale=250\n",
    "    ).map(lambda f: f.set({'year': year, 'week': week}))\n",
    "    return stats\n",
    "\n",
    "# Map over all weeks\n",
    "weekly_collections = ee.List(weeks).map(lambda w: features_for_week(ee.Number(w)))\n",
    "all_features = ee.FeatureCollection(weekly_collections).flatten()\n",
    "\n",
    "# Remove geometry before export\n",
    "def drop_geometry(feature):\n",
    "    return feature.setGeometry(None)\n",
    "all_features_no_geom = all_features.map(drop_geometry)\n",
    "\n",
    "export_fields = ['Lake_ID', 'year', 'week'] + [f'burned_pix_lc_{lc}' for lc in landcover_codes]\n",
    "\n",
    "task = ee.batch.Export.table.toDrive(\n",
    "    collection=all_features_no_geom.select(export_fields),\n",
    "    description='FireCCI51_BurnedPixels_Catchments_Weekly',\n",
    "    fileFormat='CSV'\n",
    ")\n",
    "task.start()\n",
    "print(\"Export started! Monitor in GEE Tasks or Google Drive.\")\n"
   ]
  },
  {
   "cell_type": "code",
   "execution_count": null,
   "id": "5fbb6b3c",
   "metadata": {},
   "outputs": [
    {
     "name": "stdout",
     "output_type": "stream",
     "text": [
      "✅ Weekly summary with dates and descriptive burned pixel counts ready!\n"
     ]
    }
   ],
   "source": [
    "import pandas as pd\n",
    "from datetime import datetime, timedelta\n",
    "\n",
    "def week_start_end(year, week):\n",
    "    start = datetime(year, 1, 1) + timedelta(days=(week - 1) * 7)\n",
    "    end = min(start + timedelta(days=6), datetime(year, 12, 31))\n",
    "    return start.strftime('%Y/%m/%d'), end.strftime('%Y/%m/%d')\n",
    "\n",
    "landcover_code_to_name = {\n",
    "    0: \"Cropland_rainfed\",\n",
    "    20: \"Cropland_irrigated\",\n",
    "    30: \"Mosaic_cropland\",\n",
    "    40: \"Mosaic_natural_veg\",\n",
    "    50: \"Tree_broad_evergreen\",\n",
    "    60: \"Tree_broad_deciduous\",\n",
    "    70: \"Tree_needle_evergreen\",\n",
    "    80: \"Tree_needle_deciduous\",\n",
    "    90: \"Tree_mixed\",\n",
    "    100: \"Mosaic_tree_shrub\",\n",
    "    110: \"Mosaic_herbaceous\",\n",
    "    120: \"Shrubland\",\n",
    "    130: \"Grassland\",\n",
    "    140: \"Lichens_mosses\",\n",
    "    150: \"Sparse_vegetation\",\n",
    "    170: \"Tree_flooded_saline\",\n",
    "    180: \"Shrub_herb_flooded\"\n",
    "}\n",
    "\n",
    "# Load your exported CSV\n",
    "df = pd.read_csv(\"extracted_gee/FireCCI51_BurnedPixels_Catchments_Weekly.csv\")\n",
    "\n",
    "# Drop system:index and .geo if present\n",
    "to_drop = ['system:index', '.geo']\n",
    "df = df.drop(columns=[c for c in to_drop if c in df.columns])\n",
    "\n",
    "# Add week_start and week_end columns\n",
    "df[['week_start', 'week_end']] = df.apply(\n",
    "    lambda row: week_start_end(int(row['year']), int(row['week'])), axis=1, result_type='expand'\n",
    ")\n",
    "\n",
    "# Rename land cover columns to descriptive names\n",
    "rename_dict = {\n",
    "    f\"burned_pix_lc_{code}\": f\"{name}\"\n",
    "    for code, name in landcover_code_to_name.items()\n",
    "}\n",
    "df = df.rename(columns=rename_dict)\n",
    "\n",
    "# Desired column order\n",
    "main_cols = ['Lake_ID', 'year', 'week', 'week_start', 'week_end']\n",
    "other_cols = [col for col in df.columns if col not in main_cols]\n",
    "df = df[main_cols + other_cols]\n",
    "\n",
    "# Sort by Lake_ID, year, week\n",
    "df = df.sort_values(by=['Lake_ID', 'year', 'week'])\n",
    "\n",
    "# Save final table\n",
    "df.to_csv('extracted_gee/FireCCI51_BurnedPixels_Catchments_Weekly.csv', index=False)\n",
    "\n",
    "print(\"✅ Weekly summary with dates and descriptive burned pixel counts ready!\")\n"
   ]
  }
 ],
 "metadata": {
  "kernelspec": {
   "display_name": "se",
   "language": "python",
   "name": "python3"
  },
  "language_info": {
   "codemirror_mode": {
    "name": "ipython",
    "version": 3
   },
   "file_extension": ".py",
   "mimetype": "text/x-python",
   "name": "python",
   "nbconvert_exporter": "python",
   "pygments_lexer": "ipython3",
   "version": "3.13.2"
  }
 },
 "nbformat": 4,
 "nbformat_minor": 5
}
