{
 "cells": [
  {
   "cell_type": "code",
   "execution_count": 2,
   "id": "5992bc2d",
   "metadata": {},
   "outputs": [],
   "source": [
    "import os\n",
    "import shutil\n",
    "import pandas as pd\n",
    "\n",
    "def copy_no_fire_lakes_from_csv(input_folder, output_folder, fire_csv_path):\n",
    "    # Load list of lakes with no fire\n",
    "    fire_df = pd.read_csv(fire_csv_path)\n",
    "    no_fire_ids = fire_df.loc[fire_df[\"Years_with_Fire\"] == 0, \"Lake_ID\"].tolist()\n",
    "\n",
    "    # Create destination folder\n",
    "    os.makedirs(output_folder, exist_ok=True)\n",
    "\n",
    "    copied = 0\n",
    "    for lake_id in no_fire_ids:\n",
    "        file_name = f\"Lake_{lake_id}.csv\"\n",
    "        input_path = os.path.join(input_folder, file_name)\n",
    "        output_path = os.path.join(output_folder, file_name)\n",
    "\n",
    "        if os.path.exists(input_path):\n",
    "            shutil.copy2(input_path, output_path)\n",
    "            copied += 1\n",
    "        else:\n",
    "            print(f\"⚠️ Missing: {file_name}\")\n",
    "\n",
    "    print(f\"✅ Copied {copied} no-fire lake files to: {output_folder}\")\n",
    "\n",
    "\n"
   ]
  },
  {
   "cell_type": "code",
   "execution_count": 3,
   "id": "38bbc415",
   "metadata": {},
   "outputs": [
    {
     "name": "stdout",
     "output_type": "stream",
     "text": [
      "⚠️ Missing: Lake_2.csv\n",
      "⚠️ Missing: Lake_168.csv\n",
      "⚠️ Missing: Lake_337.csv\n",
      "✅ Copied 373 no-fire lake files to: Datasets/No_Fire_Lake_CSVs\n"
     ]
    }
   ],
   "source": [
    "copy_no_fire_lakes_from_csv(\n",
    "   input_folder=\"Datasets/Interpolated_Lake_CSVs\",\n",
    "    output_folder=\"Datasets/No_Fire_Lake_CSVs\",\n",
    "    fire_csv_path=\"Datasets/GEE/lake_fire_experience_2002_2019.csv\"\n",
    " )"
   ]
  }
 ],
 "metadata": {
  "kernelspec": {
   "display_name": "myenv",
   "language": "python",
   "name": "python3"
  },
  "language_info": {
   "codemirror_mode": {
    "name": "ipython",
    "version": 3
   },
   "file_extension": ".py",
   "mimetype": "text/x-python",
   "name": "python",
   "nbconvert_exporter": "python",
   "pygments_lexer": "ipython3",
   "version": "3.12.9"
  }
 },
 "nbformat": 4,
 "nbformat_minor": 5
}
