{
 "cells": [
  {
   "cell_type": "code",
   "execution_count": 1,
   "id": "cf893da1",
   "metadata": {},
   "outputs": [],
   "source": [
    "import geopandas as gpd\n",
    "import pandas as pd\n",
    "import networkx as nx\n",
    "\n",
    "# Load all regional catchments (Level 8, customized with lakes)\n",
    "catchments_sa = gpd.read_file(\"sa/hybas_lake_sa_lev08_v1c.shp\")\n",
    "catchments_na = gpd.read_file(\"na/hybas_lake_na_lev08_v1c.shp\")\n",
    "catchments_ar = gpd.read_file(\"ar/hybas_lake_ar_lev08_v1c.shp\")"
   ]
  },
  {
   "cell_type": "code",
   "execution_count": 2,
   "id": "e2f3824d",
   "metadata": {},
   "outputs": [],
   "source": [
    "# Merge all catchments\n",
    "catchments = pd.concat([catchments_sa, catchments_na, catchments_ar], ignore_index=True)\n",
    "catchments = gpd.GeoDataFrame(catchments, crs=catchments_sa.crs)"
   ]
  },
  {
   "cell_type": "code",
   "execution_count": 3,
   "id": "8f419740",
   "metadata": {},
   "outputs": [],
   "source": [
    "# Load your lake polygons\n",
    "lakes = gpd.read_file(\"lakes/CCILakesV202_Laura.shp\")\n",
    "# Ensure CRS match\n",
    "if lakes.crs != catchments.crs:\n",
    "    lakes = lakes.to_crs(catchments.crs)"
   ]
  },
  {
   "cell_type": "code",
   "execution_count": 4,
   "id": "744e750f",
   "metadata": {},
   "outputs": [],
   "source": [
    "\n",
    "# Spatial join: find lake-containing catchments\n",
    "matched = gpd.sjoin(catchments[['HYBAS_ID', 'NEXT_DOWN', 'geometry']], lakes, how=\"inner\", predicate=\"intersects\")\n",
    "lake_hybas_ids = matched['HYBAS_ID'].unique()\n",
    "# Assume your lake file has a unique ID field called 'Lake_ID'\n",
    "lake_matches = matched[['HYBAS_ID', 'Lake_ID']]  # ⬅️ Change 'Lake_ID' to your actual column\n"
   ]
  },
  {
   "cell_type": "code",
   "execution_count": 5,
   "id": "8473788b",
   "metadata": {},
   "outputs": [],
   "source": [
    "# 4. Build directed graph of catchment flow\n",
    "G = nx.DiGraph()\n",
    "for i, row in catchments.iterrows():\n",
    "    src = row['HYBAS_ID']\n",
    "    dst = row['NEXT_DOWN']\n",
    "    if dst != 0:\n",
    "        G.add_edge(dst, src)  # upstream relationship"
   ]
  },
  {
   "cell_type": "code",
   "execution_count": 6,
   "id": "a63edc62",
   "metadata": {},
   "outputs": [],
   "source": [
    "# 5. Group upstream catchments by lake\n",
    "records = []\n",
    "\n",
    "for _, row in lake_matches.iterrows():\n",
    "    lake_id = row['Lake_ID']\n",
    "    hybas_id = row['HYBAS_ID']\n",
    "    \n",
    "    if hybas_id in G:\n",
    "        upstream = nx.descendants(G, hybas_id)\n",
    "        upstream.add(hybas_id)  # include the lake's own catchment\n",
    "\n",
    "        for uid in upstream:\n",
    "            records.append({'HYBAS_ID': uid, 'Lake_ID': lake_id})\n"
   ]
  },
  {
   "cell_type": "code",
   "execution_count": 7,
   "id": "fe7002ca",
   "metadata": {},
   "outputs": [],
   "source": [
    "# Create a DataFrame of the upstream-lake mappings\n",
    "upstream_df = pd.DataFrame(records)\n",
    "\n",
    "# Merge with catchment geometries\n",
    "upstream_catchments = upstream_df.merge(catchments, on='HYBAS_ID', how='left')\n",
    "upstream_catchments_gdf = gpd.GeoDataFrame(upstream_catchments, geometry='geometry', crs=catchments.crs)\n"
   ]
  },
  {
   "cell_type": "code",
   "execution_count": null,
   "id": "f7ce5019",
   "metadata": {},
   "outputs": [],
   "source": [
    "# 6. Export: group all results together, tagged with 'Lake_ID'\n",
    "upstream_catchments_gdf.to_file(\"LakeCatchments_Grouped_By_LakeID.shp\")\n",
    "\n",
    "print(f\"✅ Done! Exported upstream catchments grouped by Lake_ID.\")"
   ]
  }
 ],
 "metadata": {
  "kernelspec": {
   "display_name": "se",
   "language": "python",
   "name": "python3"
  },
  "language_info": {
   "codemirror_mode": {
    "name": "ipython",
    "version": 3
   },
   "file_extension": ".py",
   "mimetype": "text/x-python",
   "name": "python",
   "nbconvert_exporter": "python",
   "pygments_lexer": "ipython3",
   "version": "3.13.2"
  }
 },
 "nbformat": 4,
 "nbformat_minor": 5
}
