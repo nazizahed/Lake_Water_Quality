{
 "cells": [
  {
   "cell_type": "code",
   "execution_count": null,
   "id": "59c66b87",
   "metadata": {},
   "outputs": [
    {
     "name": "stdout",
     "output_type": "stream",
     "text": [
      "✅ Total rows (Lake_ID, HYBAS_ID pairs): 65705\n",
      "📌 Unique lakes covered: 466\n"
     ]
    }
   ],
   "source": [
    "import geopandas as gpd\n",
    "import pandas as pd\n",
    "from collections import defaultdict, deque\n",
    "\n",
    "# === Step 1: Load full HydroBASINS and lake-linked catchments\n",
    "hydro = gpd.read_file(\"Datasets/na/hybas_lake_na_lev08_v1c.shp\")[['HYBAS_ID', 'NEXT_DOWN', 'geometry']]\n",
    "lake_catchments = gpd.read_file(\"Datasets/final/lake_catchments_na_cleaned.shp\")[['Lake_ID', 'HYBAS_ID']]\n",
    "\n",
    "# === Step 2: Build flow graph (HYBAS_ID -> list of upstream catchments)\n",
    "flow_dict = pd.Series(hydro['NEXT_DOWN'].values, index=hydro['HYBAS_ID']).to_dict()\n",
    "reverse_graph = defaultdict(set)\n",
    "for src, dst in flow_dict.items():\n",
    "    if dst > 0:\n",
    "        reverse_graph[dst].add(src)\n",
    "\n",
    "# === Step 3: For each lake, trace all upstream HYBAS_IDs (preserving duplicates)\n",
    "upstream_rows = []\n",
    "\n",
    "for lake_id, group in lake_catchments.groupby('Lake_ID'):\n",
    "    visited = set()\n",
    "    queue = deque(group['HYBAS_ID'])\n",
    "\n",
    "    while queue:\n",
    "        current = queue.popleft()\n",
    "        if current in visited:\n",
    "            continue\n",
    "        visited.add(current)\n",
    "        queue.extend(reverse_graph.get(current, []))\n",
    "\n",
    "    # For each upstream catchment, assign to this lake\n",
    "    matches = hydro[hydro['HYBAS_ID'].isin(visited)].copy()\n",
    "    matches['Lake_ID'] = lake_id\n",
    "    upstream_rows.append(matches[['Lake_ID', 'geometry']])\n",
    "\n",
    "# === Step 4: Combine all with duplicated catchments preserved\n",
    "merged_gdf = gpd.GeoDataFrame(pd.concat(upstream_rows, ignore_index=True), crs=hydro.crs)\n",
    "\n",
    "print(f\"✅ Total rows (Lake_ID, HYBAS_ID pairs): {len(merged_gdf)}\")\n",
    "print(f\"📌 Unique lakes covered: {merged_gdf['Lake_ID'].nunique()}\")\n",
    "\n",
    "\n",
    "# Optional: save it\n",
    "#merged_gdf.to_file(\"Datasets/final/upstream_catchments_by_lake.gpkg\", driver=\"GPKG\")\n",
    "# === Step 5: Dissolve upstream catchments into one polygon per Lake_ID ===\n",
    "dissolved = merged_gdf.dissolve(by='Lake_ID', as_index=False)\n",
    "\n",
    "print(f\"✅ Created dissolved GeoDataFrame with {len(dissolved)} Lake_IDs.\")\n",
    "\n",
    "# === Step 6: Save to GeoPackage (best format for large polygons) ===\n",
    "output_path = \"Datasets/final/upstream_catchments_dissolved.gpkg\"\n",
    "dissolved.to_file(output_path, driver=\"GPKG\")\n",
    "\n",
    "print(f\"✅ Saved dissolved upstream catchments to: {output_path}\")"
   ]
  },
  {
   "cell_type": "code",
   "execution_count": 5,
   "id": "123c480f",
   "metadata": {},
   "outputs": [
    {
     "name": "stdout",
     "output_type": "stream",
     "text": [
      "✅ Saved alternative dissolved catchments (stopping at other lakes).\n"
     ]
    }
   ],
   "source": [
    "from collections import defaultdict, deque\n",
    "import geopandas as gpd\n",
    "import pandas as pd\n",
    "\n",
    "# Load HydroBASINS and lake-linked catchments\n",
    "hydro = gpd.read_file(\"Datasets/na/hybas_lake_na_lev08_v1c.shp\")[['HYBAS_ID', 'NEXT_DOWN', 'geometry']]\n",
    "lake_catchments = gpd.read_file(\"Datasets/final/lake_catchments_na_cleaned.shp\")[['Lake_ID', 'HYBAS_ID']]\n",
    "\n",
    "# Build reverse graph (who flows to whom)\n",
    "flow_dict = pd.Series(hydro['NEXT_DOWN'].values, index=hydro['HYBAS_ID']).to_dict()\n",
    "reverse_graph = defaultdict(set)\n",
    "for src, dst in flow_dict.items():\n",
    "    if dst > 0:\n",
    "        reverse_graph[dst].add(src)\n",
    "\n",
    "# Map: which HYBAS_IDs belong to which lakes\n",
    "hybas_to_lakes = lake_catchments.groupby(\"HYBAS_ID\")[\"Lake_ID\"].apply(set).to_dict()\n",
    "\n",
    "# Upstream tracing that stops at other lake-assigned catchments\n",
    "lake_to_upstream = defaultdict(set)\n",
    "\n",
    "for lake_id, group in lake_catchments.groupby(\"Lake_ID\"):\n",
    "    visited = set()\n",
    "    queue = deque(group['HYBAS_ID'])\n",
    "\n",
    "    while queue:\n",
    "        current = queue.popleft()\n",
    "        if current in visited:\n",
    "            continue\n",
    "        visited.add(current)\n",
    "\n",
    "        # Stop if this catchment belongs to another lake too\n",
    "        linked_lakes = hybas_to_lakes.get(current, set())\n",
    "        if linked_lakes - {lake_id}:\n",
    "            continue  # don't trace upstream from other lakes\n",
    "\n",
    "        queue.extend(reverse_graph.get(current, []))\n",
    "\n",
    "    lake_to_upstream[lake_id] = visited\n",
    "\n",
    "# Assemble final GeoDataFrame\n",
    "records = []\n",
    "for lake_id, hybas_ids in lake_to_upstream.items():\n",
    "    subset = hydro[hydro['HYBAS_ID'].isin(hybas_ids)].copy()\n",
    "    subset['Lake_ID'] = lake_id\n",
    "    records.append(subset[['Lake_ID', 'geometry']])\n",
    "\n",
    "merged_gdf = gpd.GeoDataFrame(pd.concat(records, ignore_index=True), crs=hydro.crs)\n",
    "\n",
    "# Optional: dissolve\n",
    "dissolved = merged_gdf.dissolve(by='Lake_ID', as_index=False)\n",
    "dissolved.to_file(\"Datasets/final/upstream_stop_at_other_lakes.gpkg\", driver=\"GPKG\")\n",
    "print(\"✅ Saved alternative dissolved catchments (stopping at other lakes).\")\n"
   ]
  }
 ],
 "metadata": {
  "kernelspec": {
   "display_name": "myenv",
   "language": "python",
   "name": "python3"
  },
  "language_info": {
   "codemirror_mode": {
    "name": "ipython",
    "version": 3
   },
   "file_extension": ".py",
   "mimetype": "text/x-python",
   "name": "python",
   "nbconvert_exporter": "python",
   "pygments_lexer": "ipython3",
   "version": "3.12.9"
  }
 },
 "nbformat": 4,
 "nbformat_minor": 5
}
