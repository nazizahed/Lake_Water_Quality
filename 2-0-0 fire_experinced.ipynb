{
 "cells": [
  {
   "cell_type": "code",
   "execution_count": 1,
   "id": "e7e77f34",
   "metadata": {},
   "outputs": [],
   "source": [
    "import os\n",
    "import pandas as pd\n",
    "import glob\n",
    "\n",
    "def count_fire_years(fire_folder):\n",
    "    # Find all annual CSV files\n",
    "    fire_files = sorted(glob.glob(os.path.join(fire_folder, \"FireCCI51_BurnedPixels_Catchments_Weekly_*.csv\")))\n",
    "\n",
    "    lake_fire_years = {}\n",
    "\n",
    "    for file in fire_files:\n",
    "        try:\n",
    "            year_df = pd.read_csv(file)\n",
    "            fire_cols = year_df.columns[5:]  # after week_end\n",
    "\n",
    "            yearly_sum = year_df.groupby(\"Lake_ID\")[fire_cols].sum()\n",
    "            fire_total = yearly_sum.sum(axis=1)\n",
    "\n",
    "            for lake_id, total in fire_total.items():\n",
    "                if lake_id not in lake_fire_years:\n",
    "                    lake_fire_years[lake_id] = 0\n",
    "                if total > 0:\n",
    "                    lake_fire_years[lake_id] += 1\n",
    "        except Exception as e:\n",
    "            print(f\"Error reading {file}: {e}\")\n",
    "\n",
    "    # Convert to DataFrame\n",
    "    fire_experience_df = pd.DataFrame([\n",
    "        {\"Lake_ID\": lake_id, \"Years_with_Fire\": count}\n",
    "        for lake_id, count in lake_fire_years.items()\n",
    "    ])\n",
    "\n",
    "    return fire_experience_df\n",
    "\n",
    "\n"
   ]
  },
  {
   "cell_type": "code",
   "execution_count": 2,
   "id": "fbf67ad0",
   "metadata": {},
   "outputs": [],
   "source": [
    "# 🔁 Example usage:\n",
    "df = count_fire_years(\"Datasets/GEE/firecci_raw\")\n",
    "df.to_csv(\"Datasets/GEE/lake_fire_experience_2002_2019.csv\", index=False)"
   ]
  },
  {
   "cell_type": "code",
   "execution_count": 3,
   "id": "9b2a40ed",
   "metadata": {},
   "outputs": [
    {
     "name": "stdout",
     "output_type": "stream",
     "text": [
      "90 out of 466 lakes experienced fire.\n"
     ]
    }
   ],
   "source": [
    "print(f\"{(df['Years_with_Fire'] > 0).sum()} out of {len(df)} lakes experienced fire.\")\n"
   ]
  }
 ],
 "metadata": {
  "kernelspec": {
   "display_name": "myenv",
   "language": "python",
   "name": "python3"
  },
  "language_info": {
   "codemirror_mode": {
    "name": "ipython",
    "version": 3
   },
   "file_extension": ".py",
   "mimetype": "text/x-python",
   "name": "python",
   "nbconvert_exporter": "python",
   "pygments_lexer": "ipython3",
   "version": "3.12.9"
  }
 },
 "nbformat": 4,
 "nbformat_minor": 5
}
